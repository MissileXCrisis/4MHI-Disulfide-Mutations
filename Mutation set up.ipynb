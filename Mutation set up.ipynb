{
 "cells": [
  {
   "cell_type": "markdown",
   "id": "b2f3e66f",
   "metadata": {},
   "source": [
    "# Making 12 different folders containing individual python file for each element in the list "
   ]
  },
  {
   "cell_type": "code",
   "execution_count": 1,
   "id": "183cd048",
   "metadata": {},
   "outputs": [
    {
     "name": "stdout",
     "output_type": "stream",
     "text": [
      "['4MHI_m1_C14M_A', '4MHI_m2_C52M_A', '4MHI_m3_C277M_A', '4MHI_m4_C64M_A', '4MHI_m5_C76M_A', '4MHI_m6_C97M_A', '4MHI_m7_C139M_A', '4MHI_m8_C281M_A', '4MHI_m9_C305M_A', '4MHI_m10_C137M_B', '4MHI_m11_C144M_B', '4MHI_m12_C148M_B', '']\n"
     ]
    }
   ],
   "source": [
    "# Define the data as a string\n",
    "data = \"\"\"4MHI_m1_C14M_A\n",
    "4MHI_m2_C52M_A\n",
    "4MHI_m3_C277M_A\n",
    "4MHI_m4_C64M_A\n",
    "4MHI_m5_C76M_A\n",
    "4MHI_m6_C97M_A\n",
    "4MHI_m7_C139M_A\n",
    "4MHI_m8_C281M_A\n",
    "4MHI_m9_C305M_A\n",
    "4MHI_m10_C137M_B\n",
    "4MHI_m11_C144M_B\n",
    "4MHI_m12_C148M_B\n",
    "\"\"\"\n",
    "\n",
    "# Split the data by newline characters and store it in a list\n",
    "data_list = data.split(\"\\n\")\n",
    "\n",
    "# Print the list\n",
    "print(data_list)"
   ]
  },
  {
   "cell_type": "code",
   "execution_count": 3,
   "id": "00bc6ef4",
   "metadata": {},
   "outputs": [
    {
     "name": "stdout",
     "output_type": "stream",
     "text": [
      "The folder 4MHI_m1_C14M_A already exists.\n",
      "The folder 4MHI_m2_C52M_A already exists.\n",
      "The folder 4MHI_m3_C277M_A already exists.\n",
      "The folder 4MHI_m4_C64M_A already exists.\n",
      "The folder 4MHI_m5_C76M_A already exists.\n",
      "The folder 4MHI_m6_C97M_A already exists.\n",
      "The folder 4MHI_m7_C139M_A already exists.\n",
      "The folder 4MHI_m8_C281M_A already exists.\n",
      "The folder 4MHI_m9_C305M_A already exists.\n",
      "The folder 4MHI_m10_C137M_B already exists.\n",
      "The folder 4MHI_m11_C144M_B already exists.\n",
      "The folder 4MHI_m12_C148M_B already exists.\n"
     ]
    }
   ],
   "source": [
    "import os\n",
    "# Create Folders based off element list\n",
    "\n",
    "# Loop through the list and create a folder for each element\n",
    "for element in data_list:\n",
    "  # Check Element \n",
    "  if element:\n",
    "    # Check if the folder already exists based of element\n",
    "    if not os.path.exists(element):\n",
    "      # Use the os.mkdir function to create a folder with the element name\n",
    "      os.mkdir(element)\n",
    "    else:\n",
    "      # Print a message that the folder already exists\n",
    "      print(f\"The folder {element} already exists.\")"
   ]
  },
  {
   "cell_type": "code",
   "execution_count": null,
   "id": "1f4a5600",
   "metadata": {},
   "outputs": [],
   "source": [
    "# Loop through the list and create an output file for each element\n",
    "for element in data_list:\n",
    "  # Skip empty elements\n",
    "  if element == \"\":\n",
    "    continue\n",
    "  \n",
    "  # Replace 4mhi with the element in the file names\n",
    "  prmtop_file = \"solvated_\" + element.lower() + \".prmtop\"\n",
    "  crd_file = \"solvated_\" + element.lower() + \".crd\"\n",
    "\n",
    "  # Create the output file with the echo command\n",
    "  output_file = element + \"_leap.sh\"\n",
    "  with open(output_file, \"w\") as f:\n",
    "    f.write(f\"!echo -e \\\"source leaprc.protein.ff14SB\\\\nsource leaprc.water.spce\\\\nh5n1 = loadPdb \\\\\\\"{element}.truncated.amber.pdb\\\\\\\"\\\\nsolvateOct h5n1 SPCBOX 5.0\\\\naddIons h5n1 Na+ 41\\\\nsaveAmberParm h5n1 {prmtop_file} {crd_file}\\\\nquit\\\" > {output_file}\\n\")\n",
    "\n",
    "  # Print a message to confirm the output file creation\n",
    "  print(f\"Created {output_file} successfully.\")"
   ]
  }
 ],
 "metadata": {
  "kernelspec": {
   "display_name": "Python 3 (ipykernel)",
   "language": "python",
   "name": "python3"
  },
  "language_info": {
   "codemirror_mode": {
    "name": "ipython",
    "version": 3
   },
   "file_extension": ".py",
   "mimetype": "text/x-python",
   "name": "python",
   "nbconvert_exporter": "python",
   "pygments_lexer": "ipython3",
   "version": "3.9.7"
  }
 },
 "nbformat": 4,
 "nbformat_minor": 5
}
